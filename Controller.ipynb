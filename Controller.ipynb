{
 "cells": [
  {
   "cell_type": "markdown",
   "metadata": {},
   "source": [
    "# Controller\n",
    "\n",
    "## PLACER LE ROBOT AU SOL\n",
    "<!--\n",
    "**AVANT EXÉCUTION**\n",
    "\n",
    "Au même endroit où vous lancez habituellement la commande `jupyter notebook`, exécutez la commande suivante.\n",
    "\n",
    "```\n",
    "$ jupyter nbextension enable --py widgetsnbextension --sys-prefix \n",
    "```\n",
    "\n",
    "Cette commande active une extension de jupyter qui permet d'écrire du javascript au sein d'un notebook IPython. Une fois cette commande exécutée, relancez jupyter au complet (pas seulement le kernel).\n",
    "!-->"
   ]
  },
  {
   "cell_type": "code",
   "metadata": {
    "collapsed": false,
    "jupyter": {
     "outputs_hidden": false
    },
    "pycharm": {
     "is_executing": true
    }
   },
   "source": [
    "from IPython.display import display\n",
    "from ipywidgets import widgets\n",
    "\n",
    "from robmob.robot import Robot"
   ],
   "outputs": [],
   "execution_count": null
  },
  {
   "cell_type": "code",
   "metadata": {
    "collapsed": false,
    "jupyter": {
     "outputs_hidden": false
    }
   },
   "source": [
    "# A bit of robot setup\n",
    "ip_robot = 'localhost'\n",
    "robot = Robot(ip_robot)\n",
    "robot.connect()"
   ],
   "outputs": [],
   "execution_count": null
  },
  {
   "cell_type": "code",
   "metadata": {
    "collapsed": false,
    "jupyter": {
     "outputs_hidden": false
    }
   },
   "source": [
    "DEFAULT_LINEAR_SPEED = 0.25\n",
    "DEFAULT_ANGULAR_SPEED = 3.14159 / 2\n",
    "DEFAULT_DURATION = 0.5\n",
    "\n",
    "up = widgets.Button(description='Up')\n",
    "down = widgets.Button(description='Down')\n",
    "left = widgets.Button(description='Left')\n",
    "right = widgets.Button(description='Right')\n",
    "kill = widgets.Button(description='KILL', button_style='danger')\n",
    "\n",
    "display(widgets.HBox((left, widgets.VBox((up, down)), right)))\n",
    "display(kill)\n",
    "\n",
    "kill.on_click(lambda _: robot.general_movement(0, 0, DEFAULT_DURATION))\n",
    "up.on_click(lambda _: robot.general_movement(DEFAULT_LINEAR_SPEED, 0, DEFAULT_DURATION))\n",
    "down.on_click(lambda _: robot.general_movement(-DEFAULT_LINEAR_SPEED, 0, DEFAULT_DURATION))\n",
    "left.on_click(lambda _: robot.general_movement(0, DEFAULT_ANGULAR_SPEED, DEFAULT_DURATION))\n",
    "right.on_click(lambda _: robot.general_movement(0, -DEFAULT_ANGULAR_SPEED, DEFAULT_DURATION))"
   ],
   "outputs": [],
   "execution_count": null
  }
 ],
 "metadata": {
  "kernelspec": {
   "display_name": "Python 3 (ipykernel)",
   "language": "python",
   "name": "python3"
  },
  "language_info": {
   "codemirror_mode": {
    "name": "ipython",
    "version": 3
   },
   "file_extension": ".py",
   "mimetype": "text/x-python",
   "name": "python",
   "nbconvert_exporter": "python",
   "pygments_lexer": "ipython3",
   "version": "3.8.10"
  },
  "widgets": {
   "state": {
    "0fe71df3d73445709dd36a4768d13067": {
     "views": []
    },
    "165087f647864254a2786f17cdb54da2": {
     "views": []
    },
    "1ddcf9736a854555b46c11264d0d43f9": {
     "views": []
    },
    "49c65ce7e66e4ad38cc4ab16167ff81a": {
     "views": []
    },
    "4c159449a0ff468988e02a009245180d": {
     "views": []
    },
    "524a368f457c4a47a1d5b4d3608b8b3a": {
     "views": []
    },
    "57f26032646f47eca7051edcf4ccaa91": {
     "views": []
    },
    "666cd5c4378149f6a5e05b3dda3c7aa5": {
     "views": [
      {
       "cell_index": 3
      }
     ]
    },
    "6d09429b27da4356adfa6bef0763ef2c": {
     "views": []
    },
    "79994c13bc85438eb4fc3b98e0b9611f": {
     "views": []
    },
    "8b817cd6c2f7428facc63d26645f844f": {
     "views": [
      {
       "cell_index": 3
      }
     ]
    },
    "ab5135566a084ebebc20ffb2d1bbce33": {
     "views": []
    },
    "cd896ac509bf41f39fe758a36a767879": {
     "views": []
    },
    "fc3d45a849a44fbdac8c7db6a3a54677": {
     "views": []
    }
   },
   "version": "1.1.2"
  }
 },
 "nbformat": 4,
 "nbformat_minor": 4
}
