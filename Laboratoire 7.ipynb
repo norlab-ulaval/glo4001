{
 "cells": [
  {
   "cell_type": "markdown",
   "metadata": {},
   "source": [
    "# Laboratoire 7\n",
    "## Lidar, ICP et mapping\n",
    "\n",
    "Ce laboratoire consiste à vous familiariser avec l'utilisation et le comportement de l'algorithme *Iterative Closest Point*. L'idée est d'aligner des scans lasers consécutifs de façon à construire une carte 2D de l'environnement. Notez qu'il ne s'agit pas ici de faire du SLAM, mais bien de simplement aligner des scans consécutifs sans faire de vérification ou ajustement par la suite.\n",
    "\n",
    "![Le RPlidar A1](img/rplidar.jpeg)\n",
    "\n",
    "Le scanner LD Lidar possède un champ de vision horizontal de 360 degrés et une portée de 0.02 à 12 m. Placez les obstacles à l'intérieur de cette zone pendant la création de votre carte!\n",
    "\n",
    "### Partie 1 - Afficher un scan\n",
    "\n",
    "D'abord la poutine préliminaire habituelle."
   ]
  },
  {
   "cell_type": "code",
   "metadata": {},
   "source": [
    "%load_ext autoreload\n",
    "%autoreload 2\n",
    "\n",
    "%matplotlib ipympl\n",
    "\n",
    "import time\n",
    "import numpy as np\n",
    "import matplotlib.pyplot as plt\n",
    "\n",
    "from robmob.icp import icp\n",
    "from robmob.icp_orig import icp as icp_orig\n",
    "from robmob.robot import Robot\n",
    "from robmob.rover.sensors import LDLidarSensor, RobotEspSensor"
   ],
   "outputs": [],
   "execution_count": null
  },
  {
   "cell_type": "code",
   "metadata": {},
   "source": [
    "ip_robot = 'localhost'\n",
    "robot = Robot(ip_robot)\n",
    "robot.connect()"
   ],
   "outputs": [],
   "execution_count": null
  },
  {
   "cell_type": "code",
   "metadata": {},
   "source": [
    "lidar = LDLidarSensor()\n",
    "robot.add_sensor(lidar)"
   ],
   "outputs": [],
   "execution_count": null
  },
  {
   "cell_type": "markdown",
   "metadata": {},
   "source": [
    "La fonction `hokuyo_to_3d_homogeneous_matrix` accepte un scan du Hokuyo et le transforme en une matrice Nx4 de points 3D (en coordonnées homogènes). Elle fait simplement la conversion de coordonnées polaires à cartésiennes. Comme le Hokuyo est un scanneur 2D, la fonction fixe simplement la coordonnée en $z$ comme étant égale à 0."
   ]
  },
  {
   "cell_type": "code",
   "metadata": {},
   "source": [
    "def lidar_to_3d_homogeneous_matrix(lidar_data):\n",
    "    ranges = np.array(lidar_data['ranges'])\n",
    "    thetas = np.arange(lidar_data['angle_min'], lidar_data['angle_max']+lidar_data['angle_increment'], lidar_data['angle_increment'])\n",
    "    xs = ranges * np.cos(thetas[:len(ranges)])\n",
    "    ys = ranges * np.sin(thetas[:len(ranges)])\n",
    "    \n",
    "    pts = np.vstack((xs, ys, np.zeros(xs.shape), np.ones(xs.shape))).T\n",
    "    \n",
    "    # Remove the points that are at the origin.\n",
    "    pts = pts[np.nonzero(np.logical_or(pts[:,0] != 0., pts[:,1] != 0.))]\n",
    "    \n",
    "    return pts"
   ],
   "outputs": [],
   "execution_count": null
  },
  {
   "cell_type": "code",
   "metadata": {},
   "source": [
    "pointcloud = lidar_to_3d_homogeneous_matrix(lidar.peek_data())\n",
    "pointcloud"
   ],
   "outputs": [],
   "execution_count": null
  },
  {
   "cell_type": "code",
   "metadata": {},
   "source": [
    "lidar.peek_data()"
   ],
   "outputs": [],
   "execution_count": null
  },
  {
   "cell_type": "markdown",
   "metadata": {},
   "source": [
    "La fonction `plot_point_clouds` accepte *une liste* de ces matrices/nuages de points et les trace sur un graphique. Le graphique est dans le repère de coordonnées du lidar, ce qui veux dire que les $x$ positifs pointent vers l'arrière du robot."
   ]
  },
  {
   "cell_type": "code",
   "metadata": {},
   "source": [
    "def plot_point_clouds(pcls):\n",
    "    STYLES = ['r+', 'bx', 'g*', 'md', 'ys']\n",
    "    \n",
    "    for i, pcl in enumerate(pcls):\n",
    "        plt.plot(pcl[:,0], pcl[:,1], STYLES[i], label='Nuage {}'.format(i))\n",
    "        plt.plot([0.0], [0.0], 'ko')\n",
    "        \n",
    "    plt.axis('equal')\n",
    "    plt.legend()\n",
    "    plt.show()"
   ],
   "outputs": [],
   "execution_count": null
  },
  {
   "cell_type": "code",
   "metadata": {},
   "source": [
    "plot_point_clouds([pointcloud])"
   ],
   "outputs": [],
   "execution_count": null
  },
  {
   "cell_type": "markdown",
   "metadata": {},
   "source": [
    "### Utiliser ICP\n",
    "\n",
    "Nous avons une implémentation (un peu primitive) de l'algorithme ICP dans la librairie `robmob`. Pour l'utiliser, il faut appeler la fonction `icp`. Elle prend deux nuages de points en arguments et retourne une transformation homogène `H` qui exprime la position du premier nuage de point dans le repère de coordonnées du second. \n",
    "\n",
    "`icp` retourne aussi `err`, un vecteur qui donne la distance entre chaque paire de points associés. Ce vecteur est utile pour savoir si l'algorithme `icp` a bien convergé ou bien si le résultat laisse à désirer, avant même d'inspecter le résultat.\n",
    "\n",
    "Pour tester l'algorithme, capturez un scan, déplacez le robot et capturez un autre scan.\n",
    "\n",
    "> **PROTIP** Utilisez le fichier [Controller.ipynb](Controller.ipynb) pour déplacer le robot."
   ]
  },
  {
   "cell_type": "code",
   "metadata": {},
   "source": [
    "pcl1 = lidar_to_3d_homogeneous_matrix(lidar.peek_data())"
   ],
   "outputs": [],
   "execution_count": null
  },
  {
   "cell_type": "code",
   "metadata": {},
   "source": [
    "pcl2 = lidar_to_3d_homogeneous_matrix(lidar.peek_data())"
   ],
   "outputs": [],
   "execution_count": null
  },
  {
   "cell_type": "code",
   "metadata": {},
   "source": [
    "H, err = icp(pcl1, pcl2)"
   ],
   "outputs": [],
   "execution_count": null
  },
  {
   "cell_type": "code",
   "metadata": {},
   "source": [
    "H"
   ],
   "outputs": [],
   "execution_count": null
  },
  {
   "cell_type": "markdown",
   "metadata": {},
   "source": [
    "> **Attention** Au cours de ce laboratoire, nous travaillerons dans le référentiel du lidar. Comme le lidar pointe vers l'arrière du robot, c'est comme si le référentiel était inversé. Cela veut dire qu'une translation positive dans $H$ indique que le lidar a *avancé*. Par conéquent, une translation positive indique en fait que le robot a *reculé*."
   ]
  },
  {
   "cell_type": "markdown",
   "metadata": {},
   "source": [
    "Une bonne métrique pour évaluer la qualité d'un calage de nuages de points ICP est la distance moyenne entre les points couplés. Plus elle est basse,  plus les nuages de points sont compatibles entre eux. En général, avec une distance moyenne en dessous de 10 cm, vous pouvez espérer avoir un bon calage. Sinon ICP a probablement convergé dans un minimum local."
   ]
  },
  {
   "cell_type": "code",
   "metadata": {},
   "source": [
    "print('La distance moyenne entre les points associés est de {} m'.format(np.average(err)))"
   ],
   "outputs": [],
   "execution_count": null
  },
  {
   "cell_type": "markdown",
   "metadata": {},
   "source": [
    "Avec la matrice H en main, il est possible de déplacer le nuage `pcl1` de sorte qu'il soit dans le repère de coordonnées de `pcl2`. Complétez la fonction `pcl_with_transformation_applied`. Assurez-vous de bien respecter la documentation, sinon vous aurez des problèmes pour la suite du laboratoire."
   ]
  },
  {
   "cell_type": "markdown",
   "metadata": {},
   "source": [
    "> **Indice** Normalement, on peut faire ce déplacement seulement en multipliant deux matrices. Il est possible que certaines transpositions soient nécessaires..."
   ]
  },
  {
   "cell_type": "code",
   "metadata": {},
   "source": [
    "def pcl_with_transformation_applied(H, pcl):\n",
    "    '''\n",
    "    Apply an homogeneous transformation to a pointcloud.\n",
    "    Input\n",
    "        H: A 4x4 matrix describing an homogeneous geometric transformation.\n",
    "        pcl: A Nx4 matrix containing the points to be displaced.\n",
    "    Output\n",
    "        transformed_pcl: A Nx4 matrix contaning the displaced points.\n",
    "    '''\n",
    "    return # À compléter."
   ],
   "outputs": [],
   "execution_count": null
  },
  {
   "cell_type": "markdown",
   "metadata": {},
   "source": [
    "L'appel suivant va tracer les deux nuages de points originaux, ainsi que le nuage de points déplacé.\n",
    "\n",
    "> **PROTIP** Les graphiques de ce TP sont difficiles à lire. Souvenez-vous, l'objectif est de partir de `pcl1` et de venir le coller vers `pcl2`. Par exemple, dans le cas présent, Nuage 0 est le nuage d'origine et Nuage 2 sa version déplacée. Donc Nuage 2 devrait être identique à Nuage 0, mais collé sur Nuage 1."
   ]
  },
  {
   "cell_type": "code",
   "metadata": {},
   "source": [
    "plot_point_clouds([pcl1, pcl2, pcl_with_transformation_applied(H, pcl1)])"
   ],
   "outputs": [],
   "execution_count": null
  },
  {
   "cell_type": "markdown",
   "metadata": {},
   "source": [
    "> **Question** Est-ce que l'algorithme ICP est meilleur pour détecter les rotations ou les translations? Testez l'algorithme avec différentes rotations entre les deux scans, puis refaites l'expérience avec différentes translations entre les deux scans.\n",
    "\n",
    "> **Question** Selon vos résultats à la question précédente, est-ce que l'ICP est capable de bien détecter de grandes transformations géométriques?"
   ]
  },
  {
   "cell_type": "markdown",
   "metadata": {},
   "source": [
    "### Estimé initial\n",
    "\n",
    "L'ICP est efficace pour trouver de petites transformations. Si on essaie de couvrir de trop grandes distances d'un scan à l'autre, l'ICP risque de tomber dans un minimum local. Pour cette raison c'est une bonne pratique de faire un estimé initial de la transformation $H$ que l'on cherche avant de lancer l'ICP. On pourrait se servir de l'odométrie, par exemple. La fonction suivante applique un estimé initial à un des nuages de points avant d'appeler ICP."
   ]
  },
  {
   "cell_type": "code",
   "metadata": {},
   "source": [
    "def icp_with_initial_estimate(pcl1, pcl2, estimate):\n",
    "    '''\n",
    "    Do ICP with an initial estimate.\n",
    "    Input\n",
    "        pcl1, pcl2: The point clouds to be matched. Nx4 matrices.\n",
    "        estimate: A 4x4 homogeneous transformation that represents our estimate of the robot displacement.\n",
    "    Output\n",
    "        H: A 4x4 homogeneous transformation that represents the ICP-adjusted displacement between the two PCLs.\n",
    "        err: A vector containing the distance between the matched points.\n",
    "    '''\n",
    "    pcl1_with_estimation = pcl_with_transformation_applied(estimate, pcl1)\n",
    "    H, err = icp(pcl1_with_estimation, pcl2)\n",
    "    transformation_to_return = H.dot(estimate)\n",
    "    \n",
    "    return transformation_to_return, err"
   ],
   "outputs": [],
   "execution_count": null
  },
  {
   "cell_type": "code",
   "metadata": {},
   "source": [
    "pcl1 = lidar_to_3d_homogeneous_matrix(lidar.peek_data())"
   ],
   "outputs": [],
   "execution_count": null
  },
  {
   "cell_type": "markdown",
   "metadata": {},
   "source": [
    "Avant de capturer le prochain scan, déplacez le robot, en notant le déplacement effectué."
   ]
  },
  {
   "cell_type": "code",
   "metadata": {},
   "source": [
    "pcl2 = lidar_to_3d_homogeneous_matrix(lidar.peek_data())"
   ],
   "outputs": [],
   "execution_count": null
  },
  {
   "cell_type": "code",
   "metadata": {},
   "source": [
    "dx = 0.0 # Déplacement en x\n",
    "dy = 0.0 # Déplacement en y\n",
    "rotation = -1 # En radians\n",
    "estimate = np.array([[np.cos(rotation), -np.sin(rotation), 0.0, dx],\n",
    "                     [np.sin(rotation), np.cos(rotation), 0.0, dy],\n",
    "                     [0.0, 0.0, 1.0, 0.0],\n",
    "                     [0.0, 0.0, 0.0, 1.0]])\n",
    "\n",
    "H, err = icp_with_initial_estimate(pcl1, pcl2, estimate)\n",
    "print(H)\n",
    "print('La distance moyenne entre les points associés est de {} m'.format(np.average(err)))"
   ],
   "outputs": [],
   "execution_count": null
  },
  {
   "cell_type": "markdown",
   "metadata": {},
   "source": [
    "Une fois de plus, ce graphique est difficile à lire. L'objectif est de coller Nuage 0 sur Nuage 1. Nuage 2 est une version de Nuage 1 qui est déplacé selon notre estimé initial. Nuage 2 n'a donc jamais passé par l'ICP. Nuage 3 est une version de nuage 0 qui a été déplacée selon le résultat de l'ICP."
   ]
  },
  {
   "cell_type": "code",
   "metadata": {},
   "source": [
    "pcl1_with_estimate = pcl_with_transformation_applied(estimate, pcl1)\n",
    "pcl1_after_icp = pcl_with_transformation_applied(H, pcl1)\n",
    "\n",
    "plot_point_clouds([pcl1, pcl2, pcl1_with_estimate, pcl1_after_icp])"
   ],
   "outputs": [],
   "execution_count": null
  },
  {
   "cell_type": "markdown",
   "metadata": {},
   "source": [
    "> **Question** Est-ce que d'ajouter un estimé initial a aidé l'algorithme ICP à mieux converger dans le cas présent? Est-ce que l'ICP est capable de détecter correctement de plus grandes transformations géométriques avec un estimé initial?\n",
    "\n",
    "> **Question** Est-ce que l'ICP est capable de se rétablir si vous sabotez l'estimé initial? À quelle gradeur de sabotage est-ce que l'ICP est capable de résister?"
   ]
  },
  {
   "cell_type": "markdown",
   "metadata": {},
   "source": [
    "### Estimé initial grâce à l'odométrie"
   ]
  },
  {
   "cell_type": "markdown",
   "metadata": {},
   "source": [
    "Il serait plus astucieux de se servir de l'odométrie pour faire un estimé initial, plutôt que de demander à un humain de le faire. La fonction `homogeneous_transformation_of_two_poses` trouve la matrice 4x4 de transformation homogène qui passe d'une position à l'autre."
   ]
  },
  {
   "cell_type": "code",
   "metadata": {},
   "source": [
    "def homogeneous_transformation_of_displacement(dx, dy, dtheta):\n",
    "    return np.array([[np.cos(dtheta), -1*np.sin(dtheta), 0.0, dx],\n",
    "                       [np.sin(dtheta), np.cos(dtheta), 0.0, dy],\n",
    "                       [0.0, 0.0, 1.0, 0.0],\n",
    "                       [0.0, 0.0, 0.0, 1.0]])\n",
    "\n",
    "def displacement_of_two_poses(pose1, pose2):\n",
    "    dx, dy, dt = [a - b for a, b in zip(pose1, pose2)]\n",
    "\n",
    "    dx = dx / 2048 * Robot.WHEEL_DIAMETER * np.pi\n",
    "    dy = dy / 2048 * Robot.WHEEL_DIAMETER * np.pi\n",
    "\n",
    "    H1 = homogeneous_transformation_of_displacement(0.0, 0.0, pose1[2])\n",
    "    v = np.array([[dx], [dy], [0.0], [1.0]])\n",
    "    \n",
    "    inv_H1 = np.linalg.inv(H1)\n",
    "    rotated_v = H1.dot(v)\n",
    "    \n",
    "    return homogeneous_transformation_of_displacement(rotated_v[0,0], rotated_v[1,0], dt)"
   ],
   "outputs": [],
   "execution_count": null
  },
  {
   "cell_type": "markdown",
   "metadata": {},
   "source": [
    "Le bloc suivant nous abonne aux données d'odométrie. Ensuite on peut collecter l'estimé d'odométrie en même temps que l'on connecte des scans lidar."
   ]
  },
  {
   "cell_type": "code",
   "metadata": {},
   "source": [
    "esp_sensor = RobotEspSensor()\n",
    "robot.add_sensor(esp_sensor)"
   ],
   "outputs": [],
   "execution_count": null
  },
  {
   "cell_type": "code",
   "metadata": {},
   "source": [
    "pose1 = esp_sensor.peek_odom()\n",
    "pcl1 = lidar_to_3d_homogeneous_matrix(lidar.peek_data())"
   ],
   "outputs": [],
   "execution_count": null
  },
  {
   "cell_type": "code",
   "metadata": {},
   "source": [
    "pose2 = esp_sensor.peek_odom()\n",
    "pcl2 = lidar_to_3d_homogeneous_matrix(lidar.peek_data())"
   ],
   "outputs": [],
   "execution_count": null
  },
  {
   "cell_type": "code",
   "metadata": {},
   "source": [
    "odom_estimate = displacement_of_two_poses(pose1, pose2)\n",
    "odom_estimate"
   ],
   "outputs": [],
   "execution_count": null
  },
  {
   "cell_type": "markdown",
   "metadata": {},
   "source": [
    "L'estimé d'odométrie obtenu à la case précédente est dans le référentiel du robot. On doit l'inverser pour l'avoir dans le référentiel du lidar."
   ]
  },
  {
   "cell_type": "code",
   "metadata": {},
   "source": [
    "odom_estimate_lidar_frame = np.linalg.inv(odom_estimate)"
   ],
   "outputs": [],
   "execution_count": null
  },
  {
   "cell_type": "code",
   "metadata": {},
   "source": [
    "# ICP sans estimé d'odométrie.\n",
    "H_without_estimate, err = icp(pcl1, pcl2)\n",
    "H_without_estimate"
   ],
   "outputs": [],
   "execution_count": null
  },
  {
   "cell_type": "code",
   "metadata": {},
   "source": [
    "# ICP avec estimé d'odométrie.\n",
    "H, err = icp_with_initial_estimate(pcl1, pcl2, odom_estimate_lidar_frame)\n",
    "H"
   ],
   "outputs": [],
   "execution_count": null
  },
  {
   "cell_type": "markdown",
   "metadata": {},
   "source": [
    "Le graphique suivant est encore plus difficile à lire, donc allez-y pas à pas. Nuage 0 est le nuage original, et Nuage 1 notre objectif. Nuage 2 est une version de nuage 0 déplacée selon notre estimé d'odométrie. Nuage 3 est une version de Nuage 0 déplacée selon l'icp avec estimé initial. Nuage 4 est une version de nuage 0 déplacé selon l'icp sans estimé initial."
   ]
  },
  {
   "cell_type": "code",
   "metadata": {},
   "source": [
    "pcl1_with_estimate = pcl_with_transformation_applied(odom_estimate_lidar_frame, pcl1)\n",
    "pcl1_after_icp = pcl_with_transformation_applied(H, pcl1)\n",
    "pcl1_after_lesser_icp = pcl_with_transformation_applied(H_without_estimate, pcl1)\n",
    "\n",
    "plot_point_clouds([pcl1, pcl2, pcl1_with_estimate, pcl1_after_icp, pcl1_after_lesser_icp])"
   ],
   "outputs": [],
   "execution_count": null
  },
  {
   "cell_type": "markdown",
   "metadata": {},
   "source": [
    "### Construction d'une carte\n",
    "\n",
    "Pour construire une carte de l'environnement avec le lidar, il faut intégrer tous les outils utilisés jusqu'à présent. La boucle suivante additionne les transformations successives détectées par l'ICP. On peut donc suivre le déplacement du robot dans l'environnement. \n",
    "\n",
    "Malheureusement l'algorithme d'ICP dont on dispose ne permet pas de faire l'ICP d'un scan lidar contre toute la carte construite. Il faut donc additionner les transformations du premier scan vers le deuxième, du deuxième vers le troisième, etc. La conséquence de cela est qu'un ICP de mauvaise qualité va affecter toutes les positions estimées successives. C'est un peu comme faire de la navigation à l'aveugle avec l'odométrie."
   ]
  },
  {
   "cell_type": "code",
   "metadata": {},
   "source": [
    "# Le premier scan va servir de base à notre carte. On va y ajouter les scans suivants.\n",
    "built_map = lidar_to_3d_homogeneous_matrix(lidar.peek_data())\n",
    "previous_reading = built_map.copy()\n",
    "\n",
    "sum_of_H = np.eye(4)\n",
    "lidar_positions = np.array([[0.0, 0.0, 0.0, 1.0]]) # On considère que la position initiale du lidar est l'origine.\n",
    "clouds = []\n",
    "clouds.append(previous_reading)\n",
    "\n",
    "for i in range(30):\n",
    "    # Prendre une lecture du lidar.\n",
    "    reading = lidar_to_3d_homogeneous_matrix(lidar.peek_data())\n",
    "    clouds.append(reading)\n",
    "    \n",
    "    # Exécuter ICP\n",
    "    H, err = icp(reading, previous_reading)\n",
    "    print('La translation détectée par l\\'ICP est de {:0.4f} m'.format(np.linalg.norm(H[0:1, 3])))\n",
    "    \n",
    "    # Ajouter la transformation trouvée à notre somme de transformations.\n",
    "    sum_of_H = H.dot(sum_of_H)\n",
    "    \n",
    "    # Mettre à jour la position du robot.\n",
    "    previous_position = lidar_positions[-1,:]\n",
    "    new_position = sum_of_H.dot(np.array([0.0, 0.0, 0.0, 1.0]).T).T\n",
    "    lidar_positions = np.vstack((lidar_positions, new_position))\n",
    "    \n",
    "    # Ajouter le scan déplacé à la carte\n",
    "    displaced_reading = pcl_with_transformation_applied(sum_of_H, reading)\n",
    "    built_map = np.concatenate((built_map, displaced_reading), axis=0)\n",
    "    \n",
    "    previous_reading = reading\n",
    "    \n",
    "    time.sleep(0.15)"
   ],
   "outputs": [],
   "execution_count": null
  },
  {
   "cell_type": "code",
   "metadata": {
    "scrolled": true
   },
   "source": [
    "plot_point_clouds([built_map, lidar_positions])"
   ],
   "outputs": [],
   "execution_count": null
  },
  {
   "cell_type": "markdown",
   "metadata": {},
   "source": [
    "> **Question** Pourrait-on utiliser le lidar seul pour construire la carte d'un environnement?\n",
    "\n",
    "> **Exercice optionnel** Modifiez le code de construction de carte pour qu'il utilise l'estimé d'odométrie avant de faire l'ICP."
   ]
  },
  {
   "cell_type": "code",
   "metadata": {},
   "source": [],
   "outputs": [],
   "execution_count": null
  }
 ],
 "metadata": {
  "kernelspec": {
   "display_name": "Python 3 (ipykernel)",
   "language": "python",
   "name": "python3"
  },
  "language_info": {
   "codemirror_mode": {
    "name": "ipython",
    "version": 3
   },
   "file_extension": ".py",
   "mimetype": "text/x-python",
   "name": "python",
   "nbconvert_exporter": "python",
   "pygments_lexer": "ipython3",
   "version": "3.8.10"
  },
  "widgets": {
   "state": {},
   "version": "1.1.2"
  }
 },
 "nbformat": 4,
 "nbformat_minor": 4
}
