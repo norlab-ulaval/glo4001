{
 "cells": [
  {
   "cell_type": "code",
   "id": "266aef13-7e3d-4097-a25c-9cf1ce3de920",
   "metadata": {},
   "source": [
    "%load_ext autoreload\n",
    "%autoreload 2\n",
    "%matplotlib inline\n",
    "\n",
    "import math\n",
    "import time\n",
    "\n",
    "import matplotlib.pyplot as plt\n",
    "import numpy as np\n",
    "from IPython.display import clear_output\n",
    "from matplotlib import gridspec, widgets\n",
    "\n",
    "from robmob.robot import Robot\n",
    "from robmob.rover.sensors import LDLidarSensor, RobotEspSensor\n",
    "from robmob.rover.sensors import OakLiteCamera\n",
    "from robmob.rover.commands import MovementFloatCommand, ResetCommand\n",
    "\n",
    "from IPython.display import display\n",
    "from ipywidgets import widgets\n",
    "\n",
    "from robmob.robot import Robot\n",
    "import pickle\n",
    "import time"
   ],
   "outputs": [],
   "execution_count": null
  },
  {
   "cell_type": "code",
   "id": "5d769565-9c49-4d55-add7-f73f4380051b",
   "metadata": {},
   "source": [
    "import pathlib\n",
    "pathlib.Path('data/imu/').mkdir(exist_ok=True, parents=True)"
   ],
   "outputs": [],
   "execution_count": null
  },
  {
   "cell_type": "code",
   "id": "7d93a6ed-08ef-426b-8b34-cbef9c2c694e",
   "metadata": {},
   "source": [
    "# Connexion au robot\n",
    "ip_robot = 'localhost'\n",
    "robot = Robot(ip_robot)\n",
    "robot.connect()"
   ],
   "outputs": [],
   "execution_count": null
  },
  {
   "cell_type": "code",
   "id": "28c52a1c-bfaa-4664-a3eb-d9cd7fca44c0",
   "metadata": {},
   "source": [
    "esp = RobotEspSensor()\n",
    "robot.add_sensor(esp)\n",
    "time.sleep(1)"
   ],
   "outputs": [],
   "execution_count": null
  },
  {
   "cell_type": "code",
   "id": "49b08236-76b3-4dd1-ba76-3a2acd3ea58a",
   "metadata": {},
   "source": [
    "to_keep = set(['timestamp', 'en_odom_l', 'en_odom_r', 'rgx', 'rgy', 'rgz'])\n",
    "\n",
    "while True:\n",
    "    data = esp.peek_data()\n",
    "    kept = {k: v for (k, v) in data.items() if k in to_keep}\n",
    "    with open(f'data/imu/imu_{time.time_ns()}.pkl', 'wb') as f:\n",
    "        pickle.dump(kept, f)"
   ],
   "outputs": [],
   "execution_count": null
  }
 ],
 "metadata": {
  "kernelspec": {
   "display_name": "Python 3 (ipykernel)",
   "language": "python",
   "name": "python3"
  },
  "language_info": {
   "codemirror_mode": {
    "name": "ipython",
    "version": 3
   },
   "file_extension": ".py",
   "mimetype": "text/x-python",
   "name": "python",
   "nbconvert_exporter": "python",
   "pygments_lexer": "ipython3",
   "version": "3.8.10"
  }
 },
 "nbformat": 4,
 "nbformat_minor": 5
}
