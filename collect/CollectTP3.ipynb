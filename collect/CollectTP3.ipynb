{
 "cells": [
  {
   "cell_type": "code",
   "execution_count": 1,
   "id": "initial_id",
   "metadata": {},
   "outputs": [],
   "source": [
    "%load_ext autoreload\n",
    "%autoreload 2\n",
    "%matplotlib inline\n",
    "\n",
    "import math\n",
    "import time\n",
    "\n",
    "import matplotlib.pyplot as plt\n",
    "import numpy as np\n",
    "from IPython.display import clear_output\n",
    "from matplotlib import gridspec, widgets\n",
    "\n",
    "from robmob.robot import Robot\n",
    "from robmob.rover.sensors import LDLidarSensor, RobotEspSensor\n",
    "from robmob.rover.sensors import OakLiteCamera\n",
    "from robmob.rover.commands import MovementFloatCommand, ResetCommand\n",
    "\n",
    "from IPython.display import display\n",
    "from ipywidgets import widgets\n",
    "\n",
    "from robmob.robot import Robot\n",
    "import pickle\n",
    "import time"
   ]
  },
  {
   "cell_type": "code",
   "execution_count": 2,
   "id": "01641f7d-319a-472e-8ab7-350b65a00def",
   "metadata": {},
   "outputs": [],
   "source": [
    "import pathlib\n",
    "\n",
    "pathlib.Path('data/lidar/').mkdir(exist_ok=True, parents=True)\n",
    "pathlib.Path('data/oak/').mkdir(exist_ok=True, parents=True)\n",
    "pathlib.Path('data/imu/').mkdir(exist_ok=True, parents=True)"
   ]
  },
  {
   "cell_type": "code",
   "execution_count": 3,
   "id": "f24e6fafd51a126c",
   "metadata": {},
   "outputs": [],
   "source": [
    "# Connexion au robot\n",
    "ip_robot = 'localhost'\n",
    "robot = Robot(ip_robot)\n",
    "robot.connect()"
   ]
  },
  {
   "cell_type": "code",
   "execution_count": 4,
   "id": "1c4bb3246bee6707",
   "metadata": {},
   "outputs": [
    {
     "name": "stdout",
     "output_type": "stream",
     "text": [
      "[1844301041C9600E00] [1.2.3] [0.919] [MonoCamera(0)] [error] OV7251 only supports THE_480_P/THE_400_P resolutions, defaulting to THE_480_P\n"
     ]
    }
   ],
   "source": [
    "lidar = LDLidarSensor()\n",
    "oak_sensor = OakLiteCamera()\n",
    "esp = RobotEspSensor()\n",
    "\n",
    "robot.add_sensor(lidar)\n",
    "robot.add_sensor(esp)"
   ]
  },
  {
   "cell_type": "code",
   "execution_count": 5,
   "id": "ce52258c-a814-4685-b76f-40f60bfcbd64",
   "metadata": {},
   "outputs": [],
   "source": [
    "step_id = 0\n",
    "is_recording_esp = False\n",
    "esp_data = []\n",
    "        \n",
    "def f_lidar(_):\n",
    "    global step_id\n",
    "    data = lidar.peek_data()\n",
    "    data['timestamp'] = time.time()\n",
    "    with open(f'data/lidar/lidar_{step_id:05d}.pkl', 'wb') as f:\n",
    "        pickle.dump(data, f)\n",
    "\n",
    "def f_camera(_):\n",
    "    global step_id\n",
    "    data = oak_sensor.peek_left()\n",
    "    data = dict(data=data, timestamp=time.time())\n",
    "    with open(f'data/oak/oak_{step_id:05d}.pkl', 'wb') as f:\n",
    "        pickle.dump(data, f)\n",
    "\n",
    "def f_step(_):\n",
    "    global step_id\n",
    "    step_id += 1"
   ]
  },
  {
   "cell_type": "code",
   "execution_count": 6,
   "id": "a4e0a597b9b0f67",
   "metadata": {},
   "outputs": [
    {
     "data": {
      "application/vnd.jupyter.widget-view+json": {
       "model_id": "4536c6554be84ae0ad317ad7bab0a35c",
       "version_major": 2,
       "version_minor": 0
      },
      "text/plain": [
       "HBox(children=(Button(description='Left', style=ButtonStyle()), VBox(children=(Button(description='Up', style=…"
      ]
     },
     "metadata": {},
     "output_type": "display_data"
    },
    {
     "data": {
      "application/vnd.jupyter.widget-view+json": {
       "model_id": "9d4e22e9508943f4859fe7ff78a8222e",
       "version_major": 2,
       "version_minor": 0
      },
      "text/plain": [
       "HBox(children=(Button(description='Precise 23cm', style=ButtonStyle()), Button(description='LiDAR', style=Butt…"
      ]
     },
     "metadata": {},
     "output_type": "display_data"
    },
    {
     "data": {
      "application/vnd.jupyter.widget-view+json": {
       "model_id": "9f9ffdd27f0649a88e9cc1f543f718fb",
       "version_major": 2,
       "version_minor": 0
      },
      "text/plain": [
       "Button(description='Next step', style=ButtonStyle())"
      ]
     },
     "metadata": {},
     "output_type": "display_data"
    },
    {
     "data": {
      "application/vnd.jupyter.widget-view+json": {
       "model_id": "b52db4a9c2c34fc29bb29a2279af3d3e",
       "version_major": 2,
       "version_minor": 0
      },
      "text/plain": [
       "Button(button_style='danger', description='KILL', style=ButtonStyle())"
      ]
     },
     "metadata": {},
     "output_type": "display_data"
    }
   ],
   "source": [
    "DEFAULT_LINEAR_SPEED = 0.1\n",
    "DEFAULT_ANGULAR_SPEED = 3.14159 / 8\n",
    "DEFAULT_DURATION = 1\n",
    "\n",
    "up = widgets.Button(description='Up')\n",
    "down = widgets.Button(description='Down')\n",
    "left = widgets.Button(description='Left')\n",
    "right = widgets.Button(description='Right')\n",
    "kill = widgets.Button(description='KILL', button_style='danger')\n",
    "precise_5cm = widgets.Button(description='Precise 23cm')\n",
    "take_lidar = widgets.Button(description='LiDAR')\n",
    "take_picture = widgets.Button(description='Camera')\n",
    "next_step = widgets.Button(description='Next step')\n",
    "\n",
    "display(widgets.HBox((left, widgets.VBox((up, down)), right)))\n",
    "display(widgets.HBox((precise_5cm, take_lidar, take_picture)))\n",
    "display(next_step)\n",
    "display(kill)\n",
    "\n",
    "kill.on_click(lambda _: robot.general_movement(0, 0, DEFAULT_DURATION))\n",
    "up.on_click(lambda _: robot.general_movement(DEFAULT_LINEAR_SPEED, 0, DEFAULT_DURATION))\n",
    "down.on_click(lambda _: robot.general_movement(-DEFAULT_LINEAR_SPEED, 0, DEFAULT_DURATION))\n",
    "left.on_click(lambda _: robot.general_movement(0, DEFAULT_ANGULAR_SPEED, DEFAULT_DURATION))\n",
    "right.on_click(lambda _: robot.general_movement(0, -DEFAULT_ANGULAR_SPEED, DEFAULT_DURATION))\n",
    "precise_5cm.on_click(lambda _: robot.precise_movement(0.05, 0.23))\n",
    "take_lidar.on_click(f_lidar)\n",
    "take_picture.on_click(f_camera)\n",
    "next_step.on_click(f_step)\n"
   ]
  },
  {
   "cell_type": "code",
   "execution_count": null,
   "id": "4bb94a48-3712-4305-933e-5af0a99015f7",
   "metadata": {},
   "outputs": [],
   "source": []
  }
 ],
 "metadata": {
  "kernelspec": {
   "display_name": "Python 3 (ipykernel)",
   "language": "python",
   "name": "python3"
  },
  "language_info": {
   "codemirror_mode": {
    "name": "ipython",
    "version": 3
   },
   "file_extension": ".py",
   "mimetype": "text/x-python",
   "name": "python",
   "nbconvert_exporter": "python",
   "pygments_lexer": "ipython3",
   "version": "3.8.10"
  }
 },
 "nbformat": 4,
 "nbformat_minor": 5
}
