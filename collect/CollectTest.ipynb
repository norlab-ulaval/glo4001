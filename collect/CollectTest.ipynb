{
 "cells": [
  {
   "cell_type": "code",
   "id": "63c3b01a-7124-4c66-a42a-5ca02d59369e",
   "metadata": {},
   "source": [
    "import pickle\n",
    "import pathlib\n",
    "\n",
    "import matplotlib.pyplot as plt\n",
    "import numpy as np"
   ],
   "outputs": [],
   "execution_count": null
  },
  {
   "cell_type": "code",
   "id": "3072f0a0-7813-4557-93d1-0e78974bdb8b",
   "metadata": {},
   "source": [
    "lidar_paths = sorted(list(pathlib.Path('data/lidar').iterdir()))\n",
    "oak_paths = sorted(list(pathlib.Path('data/oak').iterdir()))\n",
    "imu_paths = sorted(list(pathlib.Path('data/imu').iterdir()))"
   ],
   "outputs": [],
   "execution_count": null
  },
  {
   "cell_type": "code",
   "id": "2e89dfde-6181-48b4-9e7f-cc7dd5ea6a93",
   "metadata": {},
   "source": [
    "def lidar_to_3d_homogeneous_matrix(lidar_data):\n",
    "    ranges = np.array(lidar_data['ranges'])\n",
    "    thetas = np.arange(lidar_data['angle_min'], lidar_data['angle_max']+lidar_data['angle_increment'], lidar_data['angle_increment'])\n",
    "    xs = ranges * np.cos(thetas[:len(ranges)])\n",
    "    ys = ranges * np.sin(thetas[:len(ranges)])\n",
    "    \n",
    "    pts = np.vstack((xs, ys, np.zeros(xs.shape), np.ones(xs.shape))).T\n",
    "    \n",
    "    # Remove the points that are at the origin.\n",
    "    pts = pts[np.nonzero(np.logical_or(pts[:,0] != 0., pts[:,1] != 0.))]\n",
    "    \n",
    "    return pts\n",
    "\n",
    "def plot_point_clouds(pcls):\n",
    "    STYLES = ['r+', 'bx', 'g*', 'md', 'ys']\n",
    "    \n",
    "    for i, pcl in enumerate(pcls):\n",
    "        plt.plot(pcl[:,0], pcl[:,1], STYLES[i], label='Nuage {}'.format(i))\n",
    "        plt.plot([0.0], [0.0], 'ko')\n",
    "        \n",
    "    plt.axis('equal')\n",
    "    plt.legend()\n",
    "    plt.show()"
   ],
   "outputs": [],
   "execution_count": null
  },
  {
   "cell_type": "code",
   "id": "c2bbc009-816a-442d-a510-5a56b92c719a",
   "metadata": {},
   "source": [
    "for lidar_path in lidar_paths:\n",
    "    data = pickle.load(open(lidar_path, 'rb'))\n",
    "    plot_point_clouds([lidar_to_3d_homogeneous_matrix(data)])"
   ],
   "outputs": [],
   "execution_count": null
  },
  {
   "cell_type": "code",
   "id": "9bf6e794-a1ea-44e3-a492-675630de2344",
   "metadata": {
    "scrolled": true
   },
   "source": [
    "for oak_path in oak_paths:\n",
    "    data = pickle.load(open(oak_path, 'rb'))\n",
    "    plt.imshow(data['data'], cmap='gray')\n",
    "    plt.show()"
   ],
   "outputs": [],
   "execution_count": null
  },
  {
   "cell_type": "code",
   "id": "9f1ff8dd-1796-40bf-ba3f-798152391022",
   "metadata": {
    "scrolled": true
   },
   "source": [
    "for imu_path in imu_paths[1:10]:\n",
    "    print(imu_path)\n",
    "    data = pickle.load(open(imu_path, 'rb'))\n",
    "    print(data)"
   ],
   "outputs": [],
   "execution_count": null
  },
  {
   "cell_type": "code",
   "id": "65bee1aa-b964-4e49-9635-31587c8db90c",
   "metadata": {},
   "source": [],
   "outputs": [],
   "execution_count": null
  }
 ],
 "metadata": {
  "kernelspec": {
   "display_name": "Python 3 (ipykernel)",
   "language": "python",
   "name": "python3"
  },
  "language_info": {
   "codemirror_mode": {
    "name": "ipython",
    "version": 3
   },
   "file_extension": ".py",
   "mimetype": "text/x-python",
   "name": "python",
   "nbconvert_exporter": "python",
   "pygments_lexer": "ipython3",
   "version": "3.8.10"
  }
 },
 "nbformat": 4,
 "nbformat_minor": 5
}
